{
  "nbformat": 4,
  "nbformat_minor": 0,
  "metadata": {
    "colab": {
      "name": "Test01.ipynb",
      "provenance": []
    },
    "kernelspec": {
      "name": "python3",
      "display_name": "Python 3"
    }
  },
  "cells": [
    {
      "cell_type": "markdown",
      "metadata": {
        "id": "Vd8aax_3McA4"
      },
      "source": [
        "# github\r\n",
        "\r\n",
        "git init\r\n",
        "\r\n",
        "git commit -m \"first commit\"\r\n",
        "\r\n",
        "git branch -M main\r\n",
        "\r\n",
        "git remote add origin https://github.com/Abouelyatim/test1.git\r\n",
        "\r\n",
        "git push -u origin main"
      ]
    },
    {
      "cell_type": "markdown",
      "metadata": {
        "id": "WYm7ckZE57rl"
      },
      "source": [
        "## **General**\r\n",
        "1- What's the difference between a Machine Learning (ML) Model and a Machine Learning algorithm.\r\n",
        "\r\n",
        "2- Why we need to study Linear Algebra for ML?"
      ]
    },
    {
      "cell_type": "markdown",
      "metadata": {
        "id": "vmgZdLTrdnel"
      },
      "source": [
        "# Responses:\r\n",
        "1-models are output by algorithms and are comprised of model data and a prediction algorithm.have bias and limit\r\n",
        "\r\n",
        "algorithme help model to find parameters,\r\n",
        "\r\n",
        "2-because  the base of ML is mathematique in particular linear algebra so to undrstand deeply we must know linear algebra\r\n",
        "ex\r\n",
        "matrix :we represente our data in format of matrix\r\n",
        "vectors"
      ]
    },
    {
      "cell_type": "markdown",
      "metadata": {
        "id": "SPBs8VixeD8G"
      },
      "source": [
        "**## Vectors:**\r\n",
        "\r\n",
        "**1- create a vector: **\r\n",
        "\r\n",
        "Our vector can be written as v=(2,1), but more formally we would use the following notation, in which the dimensional coordinate values for the vector are shown as a matrix:$$\\vec{v} = \\begin{bmatrix}2 \\\\ 1 \\end{bmatrix}$$"
      ]
    },
    {
      "cell_type": "code",
      "metadata": {
        "id": "pYlRp9O5gOcZ",
        "colab": {
          "base_uri": "https://localhost:8080/"
        },
        "outputId": "6a790627-f75e-4eb5-f5db-4bc08774fe1b"
      },
      "source": [
        "import numpy as np\r\n",
        "#TO DO...\r\n",
        "v = np.array([2, 1])\r\n",
        "\r\n",
        "print(v)"
      ],
      "execution_count": 1,
      "outputs": [
        {
          "output_type": "stream",
          "text": [
            "[2 1]\n"
          ],
          "name": "stdout"
        }
      ]
    },
    {
      "cell_type": "markdown",
      "metadata": {
        "id": "I3HPxUfQgpp2"
      },
      "source": [
        "### **2-Calculating Magnitude**"
      ]
    },
    {
      "cell_type": "code",
      "metadata": {
        "id": "mIXSLO7dhGzp",
        "colab": {
          "base_uri": "https://localhost:8080/"
        },
        "outputId": "62a6cc87-4984-40dd-bdb3-436ad942f821"
      },
      "source": [
        "import math\r\n",
        "#TO DO... \r\n",
        "magnitude = np.linalg.norm(v)\r\n",
        "print(magnitude)"
      ],
      "execution_count": 3,
      "outputs": [
        {
          "output_type": "stream",
          "text": [
            "2.23606797749979\n"
          ],
          "name": "stdout"
        }
      ]
    },
    {
      "cell_type": "markdown",
      "metadata": {
        "id": "7jBRtTMdh-0H"
      },
      "source": [
        "\r\n",
        "**3- Vector Addition:**\r\n",
        "So far, we've worked with one vector at a time. What happens when you need to add two vectors.\r\n",
        "\r\n",
        "Let's take a look at an example, we already have a vector named v, as defined here:$$\\vec{v} = \\begin{bmatrix}2 \\\\ 1 \\end{bmatrix}$$Now let's create a second vector, and called s like this:$$\\vec{s} = \\begin{bmatrix}-3 \\\\ 2 \\end{bmatrix}$$\r\n",
        "\r\n",
        "And we have :$$\\vec{z} = \\vec{v}+\\vec{s}$$"
      ]
    },
    {
      "cell_type": "code",
      "metadata": {
        "id": "cyPCRCXZie9e",
        "colab": {
          "base_uri": "https://localhost:8080/"
        },
        "outputId": "0bae2442-f4f6-4dd6-ce52-c4b42e42b5e0"
      },
      "source": [
        "\r\n",
        "import math\r\n",
        "import numpy as np\r\n",
        "\r\n",
        "v = np.array([2, 1])\r\n",
        "s = np.array([-3, 2])\r\n",
        "z =v+s\r\n",
        "print (z)"
      ],
      "execution_count": 6,
      "outputs": [
        {
          "output_type": "stream",
          "text": [
            "[-1  3]\n"
          ],
          "name": "stdout"
        }
      ]
    },
    {
      "cell_type": "markdown",
      "metadata": {
        "id": "_CjY0iqijB5N"
      },
      "source": [
        "\r\n",
        "4- Dot Product Multiplication\r\n",
        "\r\n",
        "\r\n",
        "$$ \\vec{d}=\\vec{v} \\cdot \\vec{s} = (v_{1} \\cdot s_{1}) + (v_{2} \\cdot s_{2}) ... + \\; (v_{n} \\cdot s_{n})$$"
      ]
    },
    {
      "cell_type": "code",
      "metadata": {
        "id": "9xSZu9zWjpgr",
        "colab": {
          "base_uri": "https://localhost:8080/"
        },
        "outputId": "472b72d5-f50b-4c97-e453-db895e1b6b02"
      },
      "source": [
        "\r\n",
        "import math\r\n",
        "import numpy as np\r\n",
        "\r\n",
        "v = np.array([2, 1])\r\n",
        "s = np.array([-3, 2])\r\n",
        "d = np.dot(v,s)\r\n",
        "print (d)"
      ],
      "execution_count": 7,
      "outputs": [
        {
          "output_type": "stream",
          "text": [
            "-4\n"
          ],
          "name": "stdout"
        }
      ]
    },
    {
      "cell_type": "markdown",
      "metadata": {
        "id": "PgXPtvE5j79t"
      },
      "source": [
        "## **Matrices:**\r\n",
        "\r\n",
        "# 1- create a Matrice:\r\n",
        "A matrix arranges numbers into rows and columns, like this:\r\n",
        "\r\n",
        "$$A = \\begin{bmatrix}\r\n",
        "  1 &amp; 2 &amp; 3 \\\\\r\n",
        "  4 &amp; 5 &amp; 6\r\n",
        " \\end{bmatrix}\r\n",
        "$$"
      ]
    },
    {
      "cell_type": "code",
      "metadata": {
        "id": "uZEPEBzolG7d",
        "colab": {
          "base_uri": "https://localhost:8080/"
        },
        "outputId": "9aa6f314-70b7-4053-e45f-a896b9028817"
      },
      "source": [
        "import numpy as np\r\n",
        "\r\n",
        "A = np.array([[1, 2,3],\r\n",
        "              [4,5,6]])\r\n",
        "print (A)"
      ],
      "execution_count": 9,
      "outputs": [
        {
          "output_type": "stream",
          "text": [
            "[[1 2 3]\n",
            " [4 5 6]]\n"
          ],
          "name": "stdout"
        }
      ]
    },
    {
      "cell_type": "markdown",
      "metadata": {
        "id": "Ux8mSUHblecq"
      },
      "source": [
        "\r\n",
        "#2- Matrix Transposition\r\n",
        "You can transpose a matrix, that is switch the orientation of its rows and columns. You indicate this with a superscript T, like this:\r\n",
        "\r\n",
        "$$\\begin{bmatrix}1 &amp; 2 &amp; 3 \\\\4 &amp; 5 &amp; 6\\end{bmatrix}^{T} = \\begin{bmatrix}1 &amp; 42 &amp; 53 &amp; 6 \\end{bmatrix}$$"
      ]
    },
    {
      "cell_type": "markdown",
      "metadata": {
        "id": "o1DWED1nl4-Z"
      },
      "source": [
        "a- How can we do it mathematically? \r\n",
        "\r\n",
        "first row will be the first column,after, second row second column ... until n row will be n column\r\n",
        "\r\n",
        "For A in Rm*n the matrix B in Rn*m with\r\n",
        "bij = aji is  transpose of A. \r\n",
        " B = A t\r\n",
        "\r\n"
      ]
    },
    {
      "cell_type": "markdown",
      "metadata": {
        "id": "dNQOyc-jmMNg"
      },
      "source": [
        "b- with Python: "
      ]
    },
    {
      "cell_type": "code",
      "metadata": {
        "colab": {
          "base_uri": "https://localhost:8080/"
        },
        "id": "wFusE1HfmCO_",
        "outputId": "804ad950-f9ff-41f1-f6d8-f1e973e70f89"
      },
      "source": [
        "import numpy as np\r\n",
        "\r\n",
        "A= A.transpose()\r\n",
        "print (A)"
      ],
      "execution_count": 10,
      "outputs": [
        {
          "output_type": "stream",
          "text": [
            "[[1 4]\n",
            " [2 5]\n",
            " [3 6]]\n"
          ],
          "name": "stdout"
        }
      ]
    },
    {
      "cell_type": "markdown",
      "metadata": {
        "id": "tbRgbgdlmy0Y"
      },
      "source": [
        "## **Eigendecomposition:**\r\n",
        "\r\n",
        "So we've learned a little about eigenvalues and eigenvectors; but you may be wondering what use they are. Well, one use for them is to help decompose transformation matrices.\r\n",
        "\r\n",
        "1- How can we decompose a matrix? ( Rules and steps)\r\n",
        "2- (Bonus) Do it in python with your exampls."
      ]
    },
    {
      "cell_type": "markdown",
      "metadata": {
        "id": "zFFBuyE8o0Pu"
      },
      "source": [
        "1-........................................"
      ]
    },
    {
      "cell_type": "code",
      "metadata": {
        "id": "UStyMfAao4DB"
      },
      "source": [
        "#2 bonus\r\n",
        "import numpy as np"
      ],
      "execution_count": null,
      "outputs": []
    }
  ]
}